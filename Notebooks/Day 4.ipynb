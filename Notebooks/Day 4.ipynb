{
 "cells": [
  {
   "cell_type": "markdown",
   "metadata": {},
   "source": [
    "# Day 4\n",
    "\n",
    "## Part 1\n",
    "\n",
    "You arrive at the Venus fuel depot only to discover it's protected by a password. The Elves had written the password on a sticky note, but someone threw it out.\n",
    "\n",
    "However, they do remember a few key facts about the password:\n",
    "\n",
    "It is a six-digit number.\n",
    "The value is within the range given in your puzzle input.\n",
    "Two adjacent digits are the same (like 22 in 122345).\n",
    "Going from left to right, the digits never decrease; they only ever increase or stay the same (like 111123 or 135679).\n",
    "Other than the range rule, the following are true:\n",
    "\n",
    "111111 meets these criteria (double 11, never decreases).\n",
    "223450 does not meet these criteria (decreasing pair of digits 50).\n",
    "123789 does not meet these criteria (no double).\n",
    "How many different passwords within the range given in your puzzle input meet these criteria?"
   ]
  },
  {
   "cell_type": "code",
   "execution_count": null,
   "metadata": {},
   "outputs": [],
   "source": []
  }
 ],
 "metadata": {
  "kernelspec": {
   "display_name": "Python 3",
   "language": "python",
   "name": "python3"
  },
  "language_info": {
   "codemirror_mode": {
    "name": "ipython",
    "version": 3
   },
   "file_extension": ".py",
   "mimetype": "text/x-python",
   "name": "python",
   "nbconvert_exporter": "python",
   "pygments_lexer": "ipython3",
   "version": "3.7.4"
  }
 },
 "nbformat": 4,
 "nbformat_minor": 2
}
