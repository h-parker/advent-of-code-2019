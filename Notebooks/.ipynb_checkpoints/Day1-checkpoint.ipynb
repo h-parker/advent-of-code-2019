{
 "cells": [
  {
   "cell_type": "markdown",
   "metadata": {},
   "source": [
    "# Day 1\n",
    "\n",
    "## Part 1\n",
    "Fuel required to launch a given module is based on its mass. Specifically, to find the fuel required for a module, take its mass, divide by three, round down, and subtract 2.\n",
    "\n",
    "For example:\n",
    "\n",
    "- For a mass of 12, divide by 3 and round down to get 4, then subtract 2 to get 2.\n",
    "- For a mass of 14, dividing by 3 and rounding down still yields 4, so the fuel required is also 2.\n",
    "- For a mass of 1969, the fuel required is 654.\n",
    "- For a mass of 100756, the fuel required is 33583.\n",
    "\n",
    "The Fuel Counter-Upper needs to know the total fuel requirement. To find it, individually calculate the fuel needed for the mass of each module (your puzzle input), then add together all the fuel values.\n",
    "\n",
    "What is the sum of the fuel requirements for all of the modules on your spacecraft?"
   ]
  },
  {
   "cell_type": "code",
   "execution_count": 2,
   "metadata": {},
   "outputs": [],
   "source": [
    "day1_input = open(\"../Inputs/day1_input.txt\",\"r+\")"
   ]
  },
  {
   "cell_type": "code",
   "execution_count": 3,
   "metadata": {},
   "outputs": [
    {
     "name": "stdout",
     "output_type": "stream",
     "text": [
      "3478233\n"
     ]
    }
   ],
   "source": [
    "from math import floor\n",
    "\n",
    "fuel_sum = 0\n",
    "for line in day1_input.readlines():\n",
    "    fuel_sum += floor(int(line)/3) - 2\n",
    "    \n",
    "print(fuel_sum)"
   ]
  },
  {
   "cell_type": "markdown",
   "metadata": {},
   "source": [
    "## Part 2\n",
    "\n",
    "During the second Go / No Go poll, the Elf in charge of the Rocket Equation Double-Checker stops the launch sequence. Apparently, you forgot to include additional fuel for the fuel you just added.\n",
    "\n",
    "Fuel itself requires fuel just like a module - take its mass, divide by three, round down, and subtract 2. However, that fuel also requires fuel, and that fuel requires fuel, and so on. Any mass that would require negative fuel should instead be treated as if it requires zero fuel; the remaining mass, if any, is instead handled by wishing really hard, which has no mass and is outside the scope of this calculation.\n",
    "\n",
    "So, for each module mass, calculate its fuel and add it to the total. Then, treat the fuel amount you just calculated as the input mass and repeat the process, continuing until a fuel requirement is zero or negative. For example:\n",
    "\n",
    "- A module of mass 14 requires 2 fuel. This fuel requires no further fuel (2 divided by 3 and rounded down is 0, which would call for a negative fuel), so the total fuel required is still just 2.\n",
    "- At first, a module of mass 1969 requires 654 fuel. Then, this fuel requires 216 more fuel (654 / 3 - 2). 216 then requires 70 more fuel, which requires 21 fuel, which requires 5 fuel, which requires no further fuel. So, the total fuel required for a module of mass 1969 is 654 + 216 + 70 + 21 + 5 = 966.\n",
    "- The fuel required by a module of mass 100756 and its fuel is: 33583 + 11192 + 3728 + 1240 + 411 + 135 + 43 + 12 + 2 = 50346.\n",
    "\n",
    "What is the sum of the fuel requirements for all of the modules on your spacecraft when also taking into account the mass of the added fuel? (Calculate the fuel requirements for each module separately, then add them all up at the end.)"
   ]
  },
  {
   "cell_type": "code",
   "execution_count": 5,
   "metadata": {},
   "outputs": [
    {
     "name": "stdout",
     "output_type": "stream",
     "text": [
      "5214475\n"
     ]
    }
   ],
   "source": [
    "day1_input = open(\"../Inputs/day1_input.txt\",\"r+\")\n",
    "\n",
    "fuel_sum = 0\n",
    "\n",
    "for line in day1_input.readlines():\n",
    "    curr_fuel = floor(int(line)/3) - 2 # fuel needed for the current calculation\n",
    "    fuel_needed = 0 # fuel needed for the current module mass\n",
    "    \n",
    "    while curr_fuel > 0:\n",
    "        fuel_needed += curr_fuel\n",
    "        curr_fuel = floor(int(curr_fuel)/3) - 2      \n",
    "    \n",
    "    fuel_sum += fuel_needed\n",
    "    \n",
    "print(fuel_sum)"
   ]
  },
  {
   "cell_type": "code",
   "execution_count": null,
   "metadata": {},
   "outputs": [],
   "source": []
  }
 ],
 "metadata": {
  "kernelspec": {
   "display_name": "Python 3",
   "language": "python",
   "name": "python3"
  },
  "language_info": {
   "codemirror_mode": {
    "name": "ipython",
    "version": 3
   },
   "file_extension": ".py",
   "mimetype": "text/x-python",
   "name": "python",
   "nbconvert_exporter": "python",
   "pygments_lexer": "ipython3",
   "version": "3.7.4"
  }
 },
 "nbformat": 4,
 "nbformat_minor": 2
}
