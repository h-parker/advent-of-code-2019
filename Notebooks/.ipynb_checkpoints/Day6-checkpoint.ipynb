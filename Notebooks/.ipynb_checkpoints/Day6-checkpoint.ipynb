{
 "cells": [
  {
   "cell_type": "markdown",
   "metadata": {},
   "source": [
    "# Day 6\n",
    "\n",
    "## Part 1\n",
    "You've landed at the Universal Orbit Map facility on Mercury. Because navigation in space often involves transferring between orbits, the orbit maps here are useful for finding efficient routes between, for example, you and Santa. You download a map of the local orbits (your puzzle input).\n",
    "\n",
    "Except for the universal Center of Mass (COM), every object in space is in orbit around exactly one other object. An orbit looks roughly like this:\n",
    "\n",
    "```\n",
    "                  \\\n",
    "                   \\\n",
    "                    |\n",
    "                    |\n",
    "AAA--> o            o <--BBB\n",
    "                    |\n",
    "                    |\n",
    "                   /\n",
    "                  /\n",
    "```\n",
    "\n",
    "In this diagram, the object BBB is in orbit around AAA. The path that BBB takes around AAA (drawn with lines) is only partly shown. In the map data, this orbital relationship is written AAA)BBB, which means \"BBB is in orbit around AAA\".\n",
    "\n",
    "Before you use your map data to plot a course, you need to make sure it wasn't corrupted during the download. To verify maps, the Universal Orbit Map facility uses orbit count checksums - the total number of direct orbits (like the one shown above) and indirect orbits.\n",
    "\n",
    "Whenever A orbits B and B orbits C, then A indirectly orbits C. This chain can be any number of objects long: if A orbits B, B orbits C, and C orbits D, then A indirectly orbits D.\n",
    "\n",
    "For example, suppose you have the following map:\n",
    "\n",
    "```\n",
    "COM)B\n",
    "B)C\n",
    "C)D\n",
    "D)E\n",
    "E)F\n",
    "B)G\n",
    "G)H\n",
    "D)I\n",
    "E)J\n",
    "J)K\n",
    "K)L\n",
    "```\n",
    "\n",
    "Visually, the above map of orbits looks like this:\n",
    "\n",
    "\n",
    "```\n",
    "        G - H       J - K - L\n",
    "       /           /\n",
    "COM - B - C - D - E - F\n",
    "               \\\n",
    "                I\n",
    "```\n",
    "\n",
    "In this visual representation, when two objects are connected by a line, the one on the right directly orbits the one on the left.\n",
    "\n",
    "Here, we can count the total number of orbits as follows:\n",
    "\n",
    "- D directly orbits C and indirectly orbits B and COM, a total of 3 orbits.\n",
    "- L directly orbits K and indirectly orbits J, E, D, C, B, and COM, a total of 7 orbits.\n",
    "- COM orbits nothing.\n",
    "\n",
    "The total number of direct and indirect orbits in this example is 42.\n",
    "\n",
    "What is the total number of direct and indirect orbits in your map data?"
   ]
  },
  {
   "cell_type": "code",
   "execution_count": null,
   "metadata": {},
   "outputs": [],
   "source": [
    "# from treelib import Tree, Node\n",
    "\n",
    "# # orbit_map = [orbit.split(')') for orbit in ['COM)B', 'B)C','C)D','D)E',\n",
    "# #                                             'E)F','B)G','G)H','D)I',\n",
    "# #                                             'E)J','J)K','K)L']]\n",
    "\n",
    "# orbit_map = [pair.replace('\\n', '').split(')') for pair in open('../Inputs/day6_input.txt').readlines()]\n",
    "\n",
    "# # construct tree\n",
    "# tree = Tree()\n",
    "\n",
    "# # add first node to tree\n",
    "# tree.create_node(tag = orbit_map[0][0], identifier = orbit_map[0][0])\n",
    "\n",
    "# # add following nodes with parents\n",
    "# while len(tree.all_nodes()) < 2000:\n",
    "#     for orbit in orbit_map:\n",
    "#         if orbit[0] in [node.identifier for node in tree.all_nodes()] and orbit[1] not in [node.identifier for node in tree.all_nodes()]:\n",
    "#             tree.create_node(tag = orbit[1], identifier = orbit[1], \n",
    "#                          parent = orbit[0])\n",
    "\n",
    "\n",
    "# # for all non leaf nodes, count children\n",
    "# direct_orbit_sum = 0\n",
    "# for node in tree.all_nodes():\n",
    "#     if node not in tree.leaves():\n",
    "#         direct_orbit_sum += len(tree.children(node.identifier))\n",
    "\n",
    "# # for all non leaf nodes, count descendants of children\n",
    "# indirect_orbit_sum = 0\n"
   ]
  },
  {
   "cell_type": "code",
   "execution_count": 4,
   "metadata": {},
   "outputs": [],
   "source": [
    "import networkx as nx"
   ]
  },
  {
   "cell_type": "code",
   "execution_count": 59,
   "metadata": {},
   "outputs": [],
   "source": [
    "# orbit_map = [orbit.split(')') for orbit in ['COM)B', 'B)C','C)D','D)E',\n",
    "#                                             'E)F','B)G','G)H','D)I',\n",
    "#                                             'E)J','J)K','K)L']]\n",
    "\n",
    "orbit_map = [pair.replace('\\n', '').split(')') for pair in open('../Inputs/day6_input.txt').readlines()]\n",
    "\n",
    "g = nx.DiGraph()\n",
    "\n",
    "for orbit in orbit_map:\n",
    "    if orbit[0] not in g.nodes():\n",
    "        g.add_node(orbit[0])\n",
    "        \n",
    "    if orbit[1] not in g.nodes():\n",
    "        g.add_node(orbit[1])\n",
    "        \n",
    "    g.add_edge(orbit[0], orbit[1])\n",
    "\n"
   ]
  },
  {
   "cell_type": "code",
   "execution_count": 66,
   "metadata": {},
   "outputs": [
    {
     "name": "stdout",
     "output_type": "stream",
     "text": [
      "387356\n"
     ]
    }
   ],
   "source": [
    "count = 0\n",
    "for node1 in g.nodes():\n",
    "    for node2 in g.nodes():\n",
    "        if nx.algorithms.shortest_paths.generic.has_path(g, node1, node2):\n",
    "            count += 1\n",
    "\n",
    "print(count - len(g.nodes()))"
   ]
  },
  {
   "cell_type": "code",
   "execution_count": 34,
   "metadata": {},
   "outputs": [
    {
     "data": {
      "image/png": "[encoded data removed]",
      "text/plain": [
       "<Figure size 432x288 with 1 Axes>"
      ]
     },
     "metadata": {},
     "output_type": "display_data"
    }
   ],
   "source": [
    "import matplotlib.pyplot as plt\n",
    "nx.draw(g, with_labels=False, font_weight='bold')\n",
    "plt.show()"
   ]
  },
  {
   "cell_type": "markdown",
   "metadata": {},
   "source": [
    "## Part 2\n",
    "Now, you just need to figure out how many orbital transfers you (YOU) need to take to get to Santa (SAN).\n",
    "\n",
    "You start at the object YOU are orbiting; your destination is the object SAN is orbiting. An orbital transfer lets you move from any object to an object orbiting or orbited by that object.\n",
    "\n",
    "For example, suppose you have the following map:\n",
    "\n",
    "```\n",
    "COM)B\n",
    "B)C\n",
    "C)D\n",
    "D)E\n",
    "E)F\n",
    "B)G\n",
    "G)H\n",
    "D)I\n",
    "E)J\n",
    "J)K\n",
    "K)L\n",
    "K)YOU\n",
    "I)SAN\n",
    "```\n",
    "\n",
    "Visually, the above map of orbits looks like this:\n",
    "\n",
    "```\n",
    "                          YOU\n",
    "                         /\n",
    "        G - H       J - K - L\n",
    "       /           /\n",
    "COM - B - C - D - E - F\n",
    "               \\\n",
    "                I - SAN\n",
    "```\n",
    "\n",
    "In this example, YOU are in orbit around K, and SAN is in orbit around I. To move from K to I, a minimum of 4 orbital transfers are required:\n",
    "\n",
    "- K to J\n",
    "- J to E\n",
    "- E to D\n",
    "- D to I\n",
    "\n",
    "Afterward, the map of orbits looks like this:\n",
    "\n",
    "```\n",
    "        G - H       J - K - L\n",
    "       /           /\n",
    "COM - B - C - D - E - F\n",
    "               \\\n",
    "                I - SAN\n",
    "                 \\\n",
    "                  YOU\n",
    "```\n",
    "\n",
    "What is the minimum number of orbital transfers required to move from the object YOU are orbiting to the object SAN is orbiting? (Between the objects they are orbiting - not between YOU and SAN.)"
   ]
  },
  {
   "cell_type": "code",
   "execution_count": 79,
   "metadata": {},
   "outputs": [
    {
     "data": {
      "text/plain": [
       "532"
      ]
     },
     "execution_count": 79,
     "metadata": {},
     "output_type": "execute_result"
    }
   ],
   "source": [
    "# subtract 2 because you're doing the object YOU are orbiting and the object SAN is orbiting, \n",
    "# not between YOU and SAN, as the directions state. \n",
    "nx.algorithms.shortest_paths.weighted.dijkstra_path_length(g.to_undirected(), 'SAN', 'YOU') - 2"
   ]
  },
  {
   "cell_type": "code",
   "execution_count": null,
   "metadata": {},
   "outputs": [],
   "source": []
  }
 ],
 "metadata": {
  "kernelspec": {
   "display_name": "Python 3",
   "language": "python",
   "name": "python3"
  },
  "language_info": {
   "codemirror_mode": {
    "name": "ipython",
    "version": 3
   },
   "file_extension": ".py",
   "mimetype": "text/x-python",
   "name": "python",
   "nbconvert_exporter": "python",
   "pygments_lexer": "ipython3",
   "version": "3.7.4"
  }
 },
 "nbformat": 4,
 "nbformat_minor": 2
}
