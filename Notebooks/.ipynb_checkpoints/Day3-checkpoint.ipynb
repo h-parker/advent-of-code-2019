{
 "cells": [
  {
   "cell_type": "markdown",
   "metadata": {},
   "source": [
    "# Day 3\n",
    "\n",
    "## Part 1\n",
    "\n",
    "The gravity assist was successful, and you're well on your way to the Venus refuelling station. During the rush back on Earth, the fuel management system wasn't completely installed, so that's next on the priority list.\n",
    "\n",
    "Opening the front panel reveals a jumble of wires. Specifically, two wires are connected to a central port and extend outward on a grid. You trace the path each wire takes as it leaves the central port, one wire per line of text (your puzzle input).\n",
    "\n",
    "The wires twist and turn, but the two wires occasionally cross paths. To fix the circuit, you need to find the intersection point closest to the central port. Because the wires are on a grid, use the Manhattan distance for this measurement. While the wires do technically cross right at the central port where they both start, this point does not count, nor does a wire count as crossing with itself.\n",
    "\n",
    "For example, if the first wire's path is R8,U5,L5,D3, then starting from the central port (o), it goes right 8, up 5, left 5, and finally down 3:\n",
    "\n",
    "`...........\n",
    "...........\n",
    "...........\n",
    "....+----+.\n",
    "....|....|.\n",
    "....|....|.\n",
    "....|....|.\n",
    ".........|.\n",
    ".o-------+.\n",
    "...........`\n",
    "\n",
    "Then, if the second wire's path is U7,R6,D4,L4, it goes up 7, right 6, down 4, and left 4:\n",
    "\n",
    "`...........\n",
    ".+-----+...\n",
    ".|.....|...\n",
    ".|..+--X-+.\n",
    ".|..|..|.|.\n",
    ".|.-X--+.|.\n",
    ".|..|....|.\n",
    ".|.......|.\n",
    ".o-------+.\n",
    "...........`\n",
    "\n",
    "These wires cross at two locations (marked X), but the lower-left one is closer to the central port: its distance is 3 + 3 = 6.\n",
    "\n",
    "Here are a few more examples:\n",
    "\n",
    "- R75,D30,R83,U83,L12,D49,R71,U7,L72\n",
    "- U62,R66,U55,R34,D71,R55,D58,R83 = distance 159\n",
    "- R98,U47,R26,D63,R33,U87,L62,D20,R33,U53,R51\n",
    "- U98,R91,D20,R16,D67,R40,U7,R15,U6,R7 = distance 135\n",
    "\n",
    "What is the Manhattan distance from the central port to the closest intersection?"
   ]
  },
  {
   "cell_type": "code",
   "execution_count": 87,
   "metadata": {},
   "outputs": [],
   "source": [
    "wires = open(\"../Inputs/day3_input\",\"r+\")"
   ]
  },
  {
   "cell_type": "code",
   "execution_count": 88,
   "metadata": {},
   "outputs": [],
   "source": [
    "wire1 = wires.readline().split(',')\n",
    "wire1[-1] = wire1[-1][:-1] # get rid of the new line delimeter in the last element\n",
    "wire2 = wires.readline().split(',')"
   ]
  },
  {
   "cell_type": "code",
   "execution_count": 81,
   "metadata": {},
   "outputs": [],
   "source": [
    "def get_path(directions):\n",
    "    w_coord = [(0, 0)]\n",
    "    for direction in directions:\n",
    "        if direction[0] == 'R':\n",
    "            i = 0\n",
    "            while i < int(direction[1:]):\n",
    "                w_coord.append(((w_coord[-1][0] + 1, w_coord[-1][1])))\n",
    "                i += 1\n",
    "        elif direction[0] == 'L':\n",
    "            i = 0\n",
    "            while i < int(direction[1:]):\n",
    "                w_coord.append(((w_coord[-1][0] - 1, w_coord[-1][1])))\n",
    "                i += 1\n",
    "        elif direction[0] == 'U':\n",
    "            i = 0\n",
    "            while i < int(direction[1:]):\n",
    "                w_coord.append(((w_coord[-1][0], w_coord[-1][1] + 1)))\n",
    "                i += 1\n",
    "        elif direction[0] == 'D':\n",
    "            i = 0\n",
    "            while i < int(direction[1:]):\n",
    "                w_coord.append(((w_coord[-1][0], w_coord[-1][1] - 1)))\n",
    "                i += 1\n",
    "    return w_coord[1:]"
   ]
  },
  {
   "cell_type": "code",
   "execution_count": 93,
   "metadata": {},
   "outputs": [],
   "source": [
    "def get_min_distance(intersections):\n",
    "    return min([abs(x[0]) + abs(x[1]) for x in intersections])"
   ]
  },
  {
   "cell_type": "code",
   "execution_count": 103,
   "metadata": {},
   "outputs": [],
   "source": [
    "path1 = get_path(wire1)\n",
    "path2 = get_path(wire2)"
   ]
  },
  {
   "cell_type": "code",
   "execution_count": 105,
   "metadata": {},
   "outputs": [
    {
     "data": {
      "text/plain": [
       "1519"
      ]
     },
     "execution_count": 105,
     "metadata": {},
     "output_type": "execute_result"
    }
   ],
   "source": [
    "get_min_distance(set(path1).intersection(path2))"
   ]
  },
  {
   "cell_type": "markdown",
   "metadata": {},
   "source": [
    "## Part 2\n",
    "\n",
    "It turns out that this circuit is very timing-sensitive; you actually need to minimize the signal delay.\n",
    "\n",
    "To do this, calculate the number of steps each wire takes to reach each intersection; choose the intersection where the sum of both wires' steps is lowest. If a wire visits a position on the grid multiple times, use the steps value from the first time it visits that position when calculating the total value of a specific intersection.\n",
    "\n",
    "The number of steps a wire takes is the total number of grid squares the wire has entered to get to that location, including the intersection being considered. Again consider the example from above:\n",
    "\n",
    "`...........\n",
    ".+-----+...\n",
    ".|.....|...\n",
    ".|..+--X-+.\n",
    ".|..|..|.|.\n",
    ".|.-X--+.|.\n",
    ".|..|....|.\n",
    ".|.......|.\n",
    ".o-------+.\n",
    "...........`\n",
    "\n",
    "In the above example, the intersection closest to the central port is reached after 8+5+5+2 = 20 steps by the first wire and 7+6+4+3 = 20 steps by the second wire for a total of 20+20 = 40 steps.\n",
    "\n",
    "However, the top-right intersection is better: the first wire takes only 8+5+2 = 15 and the second wire takes only 7+6+2 = 15, a total of 15+15 = 30 steps.\n",
    "\n",
    "Here are the best steps for the extra examples from above:\n",
    "\n",
    "- R75,D30,R83,U83,L12,D49,R71,U7,L72 **&** U62,R66,U55,R34,D71,R55,D58,R83 = 610 steps\n",
    "- R98,U47,R26,D63,R33,U87,L62,D20,R33,U53,R51 **&** U98,R91,D20,R16,D67,R40,U7,R15,U6,R7 = 410 steps\n",
    "\n",
    "What is the fewest combined steps the wires must take to reach an intersection?"
   ]
  },
  {
   "cell_type": "code",
   "execution_count": 107,
   "metadata": {},
   "outputs": [],
   "source": [
    "def steps_to_intersection(path, intersect_pt):\n",
    "    # index method returns the index of the first occurence of the element\n",
    "    # index is the number of steps (since each coord is 1 step) to the \n",
    "    # intersect point, minus 1 (since (0,0) isn't included in the list), so \n",
    "    # we add 1\n",
    "    return path.index(intersect_pt) + 1"
   ]
  },
  {
   "cell_type": "code",
   "execution_count": 108,
   "metadata": {},
   "outputs": [
    {
     "data": {
      "text/plain": [
       "30"
      ]
     },
     "execution_count": 108,
     "metadata": {},
     "output_type": "execute_result"
    }
   ],
   "source": [
    "ex_path_1 = get_path(['R8','U5','L5','D3'])\n",
    "ex_path_2 = get_path(['U7','R6','D4','L4'])\n",
    "\n",
    "min(steps_to_intersection(ex_path_1, intersection) + steps_to_intersection(ex_path_2, intersection) for \n",
    "   intersection in set(ex_path_1).intersection(ex_path_2))"
   ]
  },
  {
   "cell_type": "code",
   "execution_count": 110,
   "metadata": {},
   "outputs": [
    {
     "data": {
      "text/plain": [
       "14358"
      ]
     },
     "execution_count": 110,
     "metadata": {},
     "output_type": "execute_result"
    }
   ],
   "source": [
    "min(steps_to_intersection(path1, intersection) + steps_to_intersection(path2, intersection) for \n",
    "   intersection in set(path1).intersection(path2))"
   ]
  },
  {
   "cell_type": "code",
   "execution_count": null,
   "metadata": {},
   "outputs": [],
   "source": []
  }
 ],
 "metadata": {
  "kernelspec": {
   "display_name": "Python 3",
   "language": "python",
   "name": "python3"
  },
  "language_info": {
   "codemirror_mode": {
    "name": "ipython",
    "version": 3
   },
   "file_extension": ".py",
   "mimetype": "text/x-python",
   "name": "python",
   "nbconvert_exporter": "python",
   "pygments_lexer": "ipython3",
   "version": "3.7.4"
  }
 },
 "nbformat": 4,
 "nbformat_minor": 2
}
