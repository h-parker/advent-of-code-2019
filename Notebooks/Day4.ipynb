{
 "cells": [
  {
   "cell_type": "markdown",
   "metadata": {},
   "source": [
    "# Day 4\n",
    "\n",
    "## Part 1\n",
    "\n",
    "You arrive at the Venus fuel depot only to discover it's protected by a password. The Elves had written the password on a sticky note, but someone threw it out.\n",
    "\n",
    "However, they do remember a few key facts about the password:\n",
    "\n",
    "It is a six-digit number.\n",
    "The value is within the range given in your puzzle input.\n",
    "Two adjacent digits are the same (like 22 in 122345).\n",
    "Going from left to right, the digits never decrease; they only ever increase or stay the same (like 111123 or 135679).\n",
    "Other than the range rule, the following are true:\n",
    "\n",
    "- 111111 meets these criteria (double 11, never decreases).\n",
    "- 223450 does not meet these criteria (decreasing pair of digits 50).\n",
    "- 123789 does not meet these criteria (no double).\n",
    "\n",
    "How many different passwords within the range given in your puzzle input meet these criteria?"
   ]
  },
  {
   "cell_type": "code",
   "execution_count": 11,
   "metadata": {},
   "outputs": [],
   "source": [
    "def is_valid1(password):\n",
    "    # has a double digit\n",
    "    has_double = False\n",
    "    for double in [11, 22, 33, 44, 55, 66, 77, 88, 99]:\n",
    "        if str(double) in str(password):\n",
    "            has_double = True\n",
    "            break\n",
    "    \n",
    "    # never decreases\n",
    "    never_decreases = True\n",
    "    i = 1\n",
    "    while i < 6:\n",
    "        if int(str(password)[i]) < int(str(password)[i-1]):\n",
    "            never_decreases = False\n",
    "            break\n",
    "        i += 1\n",
    "        \n",
    "    return has_double and never_decreases\n",
    "        \n",
    "\n",
    "# input: range is 284639-748759\n",
    "i = 284639\n",
    "count = 0\n",
    "while i <= 748759:\n",
    "    if is_valid1(i):\n",
    "        count += 1\n",
    "    i += 1"
   ]
  },
  {
   "cell_type": "code",
   "execution_count": 12,
   "metadata": {},
   "outputs": [
    {
     "data": {
      "text/plain": [
       "895"
      ]
     },
     "execution_count": 12,
     "metadata": {},
     "output_type": "execute_result"
    }
   ],
   "source": [
    "count"
   ]
  },
  {
   "cell_type": "markdown",
   "metadata": {},
   "source": [
    "## Part 2\n",
    "\n",
    "An Elf just remembered one more important detail: the two adjacent matching digits are not part of a larger group of matching digits.\n",
    "\n",
    "Given this additional criterion, but still ignoring the range rule, the following are now true:\n",
    "\n",
    "- 112233 meets these criteria because the digits never decrease and all repeated digits are exactly two digits long.\n",
    "- 123444 no longer meets the criteria (the repeated 44 is part of a larger group of 444).\n",
    "- 111122 meets the criteria (even though 1 is repeated more than twice, it still contains a double 22).\n",
    "\n",
    "How many different passwords within the range given in your puzzle input meet all of the criteria?"
   ]
  },
  {
   "cell_type": "code",
   "execution_count": 134,
   "metadata": {},
   "outputs": [],
   "source": [
    "def is_valid2(password):\n",
    "    # has a double digit but no larger groups of matching digits\n",
    "    has_double = False\n",
    "    i = 0\n",
    "    j = 2\n",
    "    while j <= 6:\n",
    "        if str(password)[i:j].count(str(password)[i]) > 1:\n",
    "            has_double = True\n",
    "            while j < 6 and str(password)[j] == str(password)[i]:\n",
    "                j += 1\n",
    "                has_double = False\n",
    "            # make sure that if it's actually a double, we don't keep \n",
    "            # searching and write over our progress\n",
    "            if has_double: \n",
    "                break\n",
    "        i = j-1\n",
    "        j = i+2\n",
    "\n",
    "    # never decreases\n",
    "    never_decreases = True\n",
    "    i = 1\n",
    "    while i < 6:\n",
    "        if int(str(password)[i]) < int(str(password)[i-1]):\n",
    "            never_decreases = False\n",
    "            break\n",
    "        i += 1\n",
    "        \n",
    "    return has_double and never_decreases"
   ]
  },
  {
   "cell_type": "code",
   "execution_count": 136,
   "metadata": {},
   "outputs": [],
   "source": [
    "# input: range is 284639-748759\n",
    "i = 284639\n",
    "count = 0\n",
    "while i <= 748759:\n",
    "    if is_valid2(i):\n",
    "        count += 1\n",
    "    i += 1"
   ]
  },
  {
   "cell_type": "code",
   "execution_count": 137,
   "metadata": {},
   "outputs": [
    {
     "data": {
      "text/plain": [
       "591"
      ]
     },
     "execution_count": 137,
     "metadata": {},
     "output_type": "execute_result"
    }
   ],
   "source": [
    "count"
   ]
  }
 ],
 "metadata": {
  "kernelspec": {
   "display_name": "Python 3",
   "language": "python",
   "name": "python3"
  },
  "language_info": {
   "codemirror_mode": {
    "name": "ipython",
    "version": 3
   },
   "file_extension": ".py",
   "mimetype": "text/x-python",
   "name": "python",
   "nbconvert_exporter": "python",
   "pygments_lexer": "ipython3",
   "version": "3.7.4"
  }
 },
 "nbformat": 4,
 "nbformat_minor": 2
}
